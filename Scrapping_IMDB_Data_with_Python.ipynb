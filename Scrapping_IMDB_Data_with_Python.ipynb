{
  "nbformat": 4,
  "nbformat_minor": 0,
  "metadata": {
    "colab": {
      "name": "Scrapping_IMDB_Data_with_Python.ipynb",
      "provenance": [],
      "include_colab_link": true
    },
    "kernelspec": {
      "name": "python3",
      "display_name": "Python 3"
    },
    "language_info": {
      "name": "python"
    }
  },
  "cells": [
    {
      "cell_type": "markdown",
      "metadata": {
        "id": "view-in-github",
        "colab_type": "text"
      },
      "source": [
        "<a href=\"https://colab.research.google.com/github/shauryaraj5/Data_Scrapping_imdb_py-/blob/main/Scrapping_IMDB_Data_with_Python.ipynb\" target=\"_parent\"><img src=\"https://colab.research.google.com/assets/colab-badge.svg\" alt=\"Open In Colab\"/></a>"
      ]
    },
    {
      "cell_type": "markdown",
      "source": [
        "Import libraries"
      ],
      "metadata": {
        "id": "2rXoosomFh_2"
      }
    },
    {
      "cell_type": "code",
      "execution_count": null,
      "metadata": {
        "id": "HQX0aeL2E_iA"
      },
      "outputs": [],
      "source": [
        "from bs4 import BeautifulSoup as bs    #to scrap data\n",
        "import requests                        #to access websites\n",
        "import pandas as pd                    #to manage data"
      ]
    },
    {
      "cell_type": "markdown",
      "source": [
        "Load the webpage"
      ],
      "metadata": {
        "id": "99L-qWdFFmAq"
      }
    },
    {
      "cell_type": "code",
      "source": [
        "r = requests.get(\"https://www.imdb.com/chart/top/\")\n",
        "soup = bs(r.content)            #Convert to a beautiful soup object\n",
        "contents = soup.prettify()      #print out html\n",
        "print(contents)"
      ],
      "metadata": {
        "id": "exWnMJJMFlOq"
      },
      "execution_count": null,
      "outputs": []
    },
    {
      "cell_type": "markdown",
      "source": [
        "Create Empty List"
      ],
      "metadata": {
        "id": "Us9GZW8_nNaZ"
      }
    },
    {
      "cell_type": "code",
      "source": [
        "movie_title = []\n",
        "movie_year = []\n",
        "movie_rating = []"
      ],
      "metadata": {
        "id": "G67DSKUinPWo"
      },
      "execution_count": null,
      "outputs": []
    },
    {
      "cell_type": "markdown",
      "source": [
        "Extract HTML tag contents"
      ],
      "metadata": {
        "id": "h5xT66FgnjzI"
      }
    },
    {
      "cell_type": "code",
      "source": [
        "imdb_table = soup.find(class_=\"chart full-width\")"
      ],
      "metadata": {
        "id": "3T6IW6Vfnsn3"
      },
      "execution_count": null,
      "outputs": []
    },
    {
      "cell_type": "code",
      "source": [
        "movie_titlecolumn = imdb_table.find_all(class_=\"titleColumn\")"
      ],
      "metadata": {
        "id": "G_1KVUQc0WcR"
      },
      "execution_count": null,
      "outputs": []
    },
    {
      "cell_type": "code",
      "source": [
        "movie_ratingscolumn = imdb_table.find_all(class_=\"ratingColumn imdbRating\")"
      ],
      "metadata": {
        "id": "a2SezJBu0ZS_"
      },
      "execution_count": null,
      "outputs": []
    },
    {
      "cell_type": "code",
      "source": [
        "for row in movie_titlecolumn:\n",
        "  title =   row.a.text     #tag content extraction\n",
        "  movie_title.append(title)\n",
        "movie_title"
      ],
      "metadata": {
        "id": "_NbWLbj6sSfA"
      },
      "execution_count": null,
      "outputs": []
    },
    {
      "cell_type": "code",
      "source": [
        "for row in movie_titlecolumn:\n",
        "  year = row.span.text\n",
        "  movie_year.append(year)\n",
        "movie_year"
      ],
      "metadata": {
        "id": "i_xwSSCYv-KY"
      },
      "execution_count": null,
      "outputs": []
    },
    {
      "cell_type": "code",
      "source": [
        "for row in movie_ratingscolumn:\n",
        "  rating = row.strong.text\n",
        "  movie_rating.append(rating)\n",
        "movie_rating"
      ],
      "metadata": {
        "id": "IkaHUEUpwUN7"
      },
      "execution_count": null,
      "outputs": []
    },
    {
      "cell_type": "markdown",
      "source": [
        "Create Dataframe"
      ],
      "metadata": {
        "id": "W1tHMvOuyi7Q"
      }
    },
    {
      "cell_type": "code",
      "source": [
        "movie_df = pd.DataFrame({'Movie Title': movie_title, 'Year of Release': movie_year, 'IMDB Rating': movie_rating})\n",
        "movie_df.head(30)  #view 1st 30 rows of dataframe"
      ],
      "metadata": {
        "id": "U9plNocdylAy"
      },
      "execution_count": null,
      "outputs": []
    }
  ]
}